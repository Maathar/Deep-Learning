{
 "cells": [
  {
   "cell_type": "code",
   "execution_count": 42,
   "metadata": {},
   "outputs": [],
   "source": [
    "# inspired and data from: kaggle.com/code/shivamb\n",
    "# https://www.kaggle.com/datasets/aashita/nyt-comments?resource=download"
   ]
  },
  {
   "cell_type": "code",
   "execution_count": 44,
   "metadata": {},
   "outputs": [],
   "source": [
    "from keras.preprocessing.sequence import pad_sequences\n",
    "from keras.preprocessing.text import Tokenizer\n",
    "import tensorflow as tf\n",
    "import pandas as pd\n",
    "import numpy as np\n",
    "import glob\n",
    "from matplotlib import pyplot as plt"
   ]
  },
  {
   "cell_type": "code",
   "execution_count": 9,
   "metadata": {},
   "outputs": [],
   "source": [
    "files_list = glob.glob(\"./NY_data/Ar*\")"
   ]
  },
  {
   "cell_type": "code",
   "execution_count": 10,
   "metadata": {},
   "outputs": [
    {
     "data": {
      "text/plain": [
       "['./NY_data/ArticlesMay2017.csv',\n",
       " './NY_data/ArticlesApril2018.csv',\n",
       " './NY_data/ArticlesApril2017.csv',\n",
       " './NY_data/ArticlesJan2018.csv',\n",
       " './NY_data/ArticlesFeb2017.csv',\n",
       " './NY_data/ArticlesJan2017.csv',\n",
       " './NY_data/ArticlesFeb2018.csv',\n",
       " './NY_data/ArticlesMarch2017.csv',\n",
       " './NY_data/ArticlesMarch2018.csv']"
      ]
     },
     "execution_count": 10,
     "metadata": {},
     "output_type": "execute_result"
    }
   ],
   "source": [
    "files_list"
   ]
  },
  {
   "cell_type": "code",
   "execution_count": 25,
   "metadata": {},
   "outputs": [],
   "source": [
    "corpus = []\n",
    "for file in files_list:\n",
    "    _df = pd.read_csv(file)\n",
    "    corpus.extend(list(_df[\"headline\"].values))"
   ]
  },
  {
   "cell_type": "code",
   "execution_count": 26,
   "metadata": {},
   "outputs": [
    {
     "data": {
      "text/plain": [
       "['My Beijing: The Sacred City',\n",
       " '6 Million Riders a Day, 1930s Technology',\n",
       " 'Seeking a Cross-Border Conference',\n",
       " 'Questions for: ‘Despite the “Yuck Factor,” Leeches Are Big in Russian Medicine’',\n",
       " 'Who Is a ‘Criminal’?',\n",
       " 'An Antidote to Europe’s Populism',\n",
       " 'The Cost of a Speech',\n",
       " 'Degradation of the Language',\n",
       " 'On the Power of Being Awful',\n",
       " 'Trump Garbles Pitch on a Revised Health Bill']"
      ]
     },
     "execution_count": 26,
     "metadata": {},
     "output_type": "execute_result"
    }
   ],
   "source": [
    "corpus[:10]"
   ]
  },
  {
   "cell_type": "code",
   "execution_count": 27,
   "metadata": {},
   "outputs": [
    {
     "data": {
      "text/plain": [
       "[[53, 1617],\n",
       " [53, 1617, 1],\n",
       " [53, 1617, 1, 1993],\n",
       " [53, 1617, 1, 1993, 126],\n",
       " [127, 347],\n",
       " [127, 347, 1994],\n",
       " [127, 347, 1994, 2],\n",
       " [127, 347, 1994, 2, 122],\n",
       " [127, 347, 1994, 2, 122, 2515],\n",
       " [127, 347, 1994, 2, 122, 2515, 823]]"
      ]
     },
     "execution_count": 27,
     "metadata": {},
     "output_type": "execute_result"
    }
   ],
   "source": [
    "tokenizer = Tokenizer()\n",
    "\n",
    "def get_sequence_of_tokens(corpus):\n",
    "    tokenizer.fit_on_texts(corpus)\n",
    "    total_words = len(tokenizer.word_index) + 1\n",
    "    \n",
    "    input_sequences = []\n",
    "    for line in corpus:\n",
    "        token_list = tokenizer.texts_to_sequences([line])[0]\n",
    "        for i in range(1, len(token_list)):\n",
    "            n_gram_sequence = token_list[:i+1]\n",
    "            input_sequences.append(n_gram_sequence)\n",
    "    return input_sequences, total_words\n",
    "\n",
    "input_sequences, total_words = get_sequence_of_tokens(corpus)\n",
    "input_sequences[:10]"
   ]
  },
  {
   "cell_type": "code",
   "execution_count": 29,
   "metadata": {},
   "outputs": [],
   "source": [
    "max_sequence_len = max([len(x) for x in input_sequences])\n",
    "input_sequences = np.array(pad_sequences(input_sequences, maxlen=max_sequence_len, padding='pre'))"
   ]
  },
  {
   "cell_type": "code",
   "execution_count": 31,
   "metadata": {},
   "outputs": [],
   "source": [
    "X, y = input_sequences[:,:-1],input_sequences[:,-1]"
   ]
  },
  {
   "cell_type": "code",
   "execution_count": 32,
   "metadata": {},
   "outputs": [],
   "source": [
    "y = tf.keras.utils.to_categorical(y, num_classes=total_words)"
   ]
  },
  {
   "cell_type": "code",
   "execution_count": 37,
   "metadata": {},
   "outputs": [],
   "source": [
    "input_len = max_sequence_len - 1\n",
    "\n",
    "model = tf.keras.models.Sequential()\n",
    "model.add(tf.keras.layers.Embedding(input_dim=total_words, output_dim=10, input_length=input_len))\n",
    "model.add(tf.keras.layers.LSTM(100))\n",
    "model.add(tf.keras.layers.Dropout(0.1))\n",
    "model.add(tf.keras.layers.Dense(total_words, activation='softmax'))"
   ]
  },
  {
   "cell_type": "code",
   "execution_count": 38,
   "metadata": {},
   "outputs": [
    {
     "name": "stdout",
     "output_type": "stream",
     "text": [
      "Model: \"sequential_3\"\n",
      "_________________________________________________________________\n",
      " Layer (type)                Output Shape              Param #   \n",
      "=================================================================\n",
      " embedding_3 (Embedding)     (None, 27, 10)            117530    \n",
      "                                                                 \n",
      " lstm_3 (LSTM)               (None, 100)               44400     \n",
      "                                                                 \n",
      " dropout_3 (Dropout)         (None, 100)               0         \n",
      "                                                                 \n",
      " dense_3 (Dense)             (None, 11753)             1187053   \n",
      "                                                                 \n",
      "=================================================================\n",
      "Total params: 1348983 (5.15 MB)\n",
      "Trainable params: 1348983 (5.15 MB)\n",
      "Non-trainable params: 0 (0.00 Byte)\n",
      "_________________________________________________________________\n"
     ]
    }
   ],
   "source": [
    "model.compile(loss='categorical_crossentropy', optimizer='adam')\n",
    "model.summary()"
   ]
  },
  {
   "cell_type": "code",
   "execution_count": 39,
   "metadata": {},
   "outputs": [],
   "source": [
    "cb = [tf.keras.callbacks.EarlyStopping(monitor=\"loss\", patience=5)]"
   ]
  },
  {
   "cell_type": "code",
   "execution_count": 40,
   "metadata": {},
   "outputs": [
    {
     "name": "stdout",
     "output_type": "stream",
     "text": [
      "Epoch 1/100\n",
      "1666/1666 [==============================] - 31s 18ms/step - loss: 7.8897\n",
      "Epoch 2/100\n",
      "1666/1666 [==============================] - 29s 17ms/step - loss: 7.4817\n",
      "Epoch 3/100\n",
      "1666/1666 [==============================] - 30s 18ms/step - loss: 7.2910\n",
      "Epoch 4/100\n",
      "1666/1666 [==============================] - 30s 18ms/step - loss: 7.0716\n",
      "Epoch 5/100\n",
      "1666/1666 [==============================] - 30s 18ms/step - loss: 6.8399\n",
      "Epoch 6/100\n",
      "1666/1666 [==============================] - 29s 18ms/step - loss: 6.6010\n",
      "Epoch 7/100\n",
      "1666/1666 [==============================] - 31s 19ms/step - loss: 6.3515\n",
      "Epoch 8/100\n",
      "1666/1666 [==============================] - 30s 18ms/step - loss: 6.1023\n",
      "Epoch 9/100\n",
      "1666/1666 [==============================] - 29s 18ms/step - loss: 5.8596\n",
      "Epoch 10/100\n",
      "1666/1666 [==============================] - 29s 18ms/step - loss: 5.6346\n",
      "Epoch 11/100\n",
      "1666/1666 [==============================] - 30s 18ms/step - loss: 5.4140\n",
      "Epoch 12/100\n",
      "1666/1666 [==============================] - 29s 17ms/step - loss: 5.2053\n",
      "Epoch 13/100\n",
      "1666/1666 [==============================] - 29s 17ms/step - loss: 5.0109\n",
      "Epoch 14/100\n",
      "1666/1666 [==============================] - 29s 18ms/step - loss: 4.8263\n",
      "Epoch 15/100\n",
      "1666/1666 [==============================] - 29s 17ms/step - loss: 4.6481\n",
      "Epoch 16/100\n",
      "1666/1666 [==============================] - 29s 17ms/step - loss: 4.4815\n",
      "Epoch 17/100\n",
      "1666/1666 [==============================] - 29s 17ms/step - loss: 4.3267\n",
      "Epoch 18/100\n",
      "1666/1666 [==============================] - 29s 17ms/step - loss: 4.1787\n",
      "Epoch 19/100\n",
      "1666/1666 [==============================] - 29s 18ms/step - loss: 4.0383\n",
      "Epoch 20/100\n",
      "1666/1666 [==============================] - 29s 17ms/step - loss: 3.9080\n",
      "Epoch 21/100\n",
      "1666/1666 [==============================] - 30s 18ms/step - loss: 3.7856\n",
      "Epoch 22/100\n",
      "1666/1666 [==============================] - 29s 17ms/step - loss: 3.6727\n",
      "Epoch 23/100\n",
      "1666/1666 [==============================] - 29s 18ms/step - loss: 3.5614\n",
      "Epoch 24/100\n",
      "1666/1666 [==============================] - 29s 17ms/step - loss: 3.4621\n",
      "Epoch 25/100\n",
      "1666/1666 [==============================] - 29s 17ms/step - loss: 3.3643\n",
      "Epoch 26/100\n",
      "1666/1666 [==============================] - 29s 17ms/step - loss: 3.2798\n",
      "Epoch 27/100\n",
      "1666/1666 [==============================] - 29s 17ms/step - loss: 3.1973\n",
      "Epoch 28/100\n",
      "1666/1666 [==============================] - 30s 18ms/step - loss: 3.1130\n",
      "Epoch 29/100\n",
      "1666/1666 [==============================] - 29s 18ms/step - loss: 3.0361\n",
      "Epoch 30/100\n",
      "1666/1666 [==============================] - 29s 18ms/step - loss: 2.9652\n",
      "Epoch 31/100\n",
      "1666/1666 [==============================] - 29s 17ms/step - loss: 2.9011\n",
      "Epoch 32/100\n",
      "1666/1666 [==============================] - 29s 17ms/step - loss: 2.8370\n",
      "Epoch 33/100\n",
      "1666/1666 [==============================] - 29s 18ms/step - loss: 2.7771\n",
      "Epoch 34/100\n",
      "1666/1666 [==============================] - 29s 17ms/step - loss: 2.7193\n",
      "Epoch 35/100\n",
      "1666/1666 [==============================] - 29s 18ms/step - loss: 2.6694\n",
      "Epoch 36/100\n",
      "1666/1666 [==============================] - 29s 17ms/step - loss: 2.6251\n",
      "Epoch 37/100\n",
      "1666/1666 [==============================] - 29s 17ms/step - loss: 2.5662\n",
      "Epoch 38/100\n",
      "1666/1666 [==============================] - 29s 17ms/step - loss: 2.5238\n",
      "Epoch 39/100\n",
      "1666/1666 [==============================] - 29s 17ms/step - loss: 2.4827\n",
      "Epoch 40/100\n",
      "1666/1666 [==============================] - 29s 17ms/step - loss: 2.4403\n",
      "Epoch 41/100\n",
      "1666/1666 [==============================] - 29s 18ms/step - loss: 2.3977\n",
      "Epoch 42/100\n",
      "1666/1666 [==============================] - 30s 18ms/step - loss: 2.3647\n",
      "Epoch 43/100\n",
      "1666/1666 [==============================] - 30s 18ms/step - loss: 2.3220\n",
      "Epoch 44/100\n",
      "1666/1666 [==============================] - 30s 18ms/step - loss: 2.2967\n",
      "Epoch 45/100\n",
      "1666/1666 [==============================] - 29s 17ms/step - loss: 2.2622\n",
      "Epoch 46/100\n",
      "1666/1666 [==============================] - 29s 17ms/step - loss: 2.2308\n",
      "Epoch 47/100\n",
      "1666/1666 [==============================] - 30s 18ms/step - loss: 2.2079\n",
      "Epoch 48/100\n",
      "1666/1666 [==============================] - 29s 17ms/step - loss: 2.1758\n",
      "Epoch 49/100\n",
      "1666/1666 [==============================] - 29s 18ms/step - loss: 2.1423\n",
      "Epoch 50/100\n",
      "1666/1666 [==============================] - 29s 18ms/step - loss: 2.1287\n",
      "Epoch 51/100\n",
      "1666/1666 [==============================] - 29s 17ms/step - loss: 2.0981\n",
      "Epoch 52/100\n",
      "1666/1666 [==============================] - 29s 17ms/step - loss: 2.0740\n",
      "Epoch 53/100\n",
      "1666/1666 [==============================] - 29s 17ms/step - loss: 2.0525\n",
      "Epoch 54/100\n",
      "1666/1666 [==============================] - 30s 18ms/step - loss: 2.0311\n",
      "Epoch 55/100\n",
      "1666/1666 [==============================] - 30s 18ms/step - loss: 2.0117\n",
      "Epoch 56/100\n",
      "1666/1666 [==============================] - 30s 18ms/step - loss: 1.9945\n",
      "Epoch 57/100\n",
      "1666/1666 [==============================] - 29s 18ms/step - loss: 1.9734\n",
      "Epoch 58/100\n",
      "1666/1666 [==============================] - 29s 18ms/step - loss: 1.9550\n",
      "Epoch 59/100\n",
      "1666/1666 [==============================] - 29s 18ms/step - loss: 1.9325\n",
      "Epoch 60/100\n",
      "1666/1666 [==============================] - 29s 18ms/step - loss: 1.9183\n",
      "Epoch 61/100\n",
      "1666/1666 [==============================] - 29s 18ms/step - loss: 1.9044\n",
      "Epoch 62/100\n",
      "1666/1666 [==============================] - 29s 17ms/step - loss: 1.8820\n",
      "Epoch 63/100\n",
      "1666/1666 [==============================] - 29s 17ms/step - loss: 1.8789\n",
      "Epoch 64/100\n",
      "1666/1666 [==============================] - 29s 17ms/step - loss: 1.8565\n",
      "Epoch 65/100\n",
      "1666/1666 [==============================] - 29s 17ms/step - loss: 1.8494\n",
      "Epoch 66/100\n",
      "1666/1666 [==============================] - 29s 17ms/step - loss: 1.8323\n",
      "Epoch 67/100\n",
      "1666/1666 [==============================] - 29s 17ms/step - loss: 1.8235\n",
      "Epoch 68/100\n",
      "1666/1666 [==============================] - 29s 17ms/step - loss: 1.8019\n",
      "Epoch 69/100\n",
      "1666/1666 [==============================] - 29s 17ms/step - loss: 1.7964\n",
      "Epoch 70/100\n",
      "1666/1666 [==============================] - 29s 17ms/step - loss: 1.7843\n",
      "Epoch 71/100\n",
      "1666/1666 [==============================] - 29s 17ms/step - loss: 1.7715\n",
      "Epoch 72/100\n",
      "1666/1666 [==============================] - 29s 17ms/step - loss: 1.7521\n",
      "Epoch 73/100\n",
      "1666/1666 [==============================] - 29s 17ms/step - loss: 1.7484\n",
      "Epoch 74/100\n",
      "1666/1666 [==============================] - 29s 17ms/step - loss: 1.7441\n",
      "Epoch 75/100\n",
      "1666/1666 [==============================] - 29s 17ms/step - loss: 1.7380\n",
      "Epoch 76/100\n",
      "1666/1666 [==============================] - 29s 17ms/step - loss: 1.7213\n",
      "Epoch 77/100\n",
      "1666/1666 [==============================] - 29s 17ms/step - loss: 1.7073\n",
      "Epoch 78/100\n",
      "1666/1666 [==============================] - 29s 17ms/step - loss: 1.7042\n",
      "Epoch 79/100\n",
      "1666/1666 [==============================] - 29s 17ms/step - loss: 1.6936\n",
      "Epoch 80/100\n",
      "1666/1666 [==============================] - 29s 17ms/step - loss: 1.6837\n",
      "Epoch 81/100\n",
      "1666/1666 [==============================] - 29s 18ms/step - loss: 1.6824\n",
      "Epoch 82/100\n",
      "1666/1666 [==============================] - 29s 17ms/step - loss: 1.6733\n",
      "Epoch 83/100\n",
      "1666/1666 [==============================] - 29s 18ms/step - loss: 1.6593\n",
      "Epoch 84/100\n",
      "1666/1666 [==============================] - 29s 17ms/step - loss: 1.6568\n",
      "Epoch 85/100\n",
      "1666/1666 [==============================] - 29s 18ms/step - loss: 1.6484\n",
      "Epoch 86/100\n",
      "1666/1666 [==============================] - 30s 18ms/step - loss: 1.6454\n",
      "Epoch 87/100\n",
      "1666/1666 [==============================] - 30s 18ms/step - loss: 1.6271\n",
      "Epoch 88/100\n",
      "1666/1666 [==============================] - 30s 18ms/step - loss: 1.6357\n",
      "Epoch 89/100\n",
      "1666/1666 [==============================] - 29s 18ms/step - loss: 1.6252\n",
      "Epoch 90/100\n",
      "1666/1666 [==============================] - 30s 18ms/step - loss: 1.6211\n",
      "Epoch 91/100\n",
      "1666/1666 [==============================] - 29s 18ms/step - loss: 1.6073\n",
      "Epoch 92/100\n",
      "1666/1666 [==============================] - 29s 18ms/step - loss: 1.5998\n",
      "Epoch 93/100\n",
      "1666/1666 [==============================] - 29s 17ms/step - loss: 1.6082\n",
      "Epoch 94/100\n",
      "1666/1666 [==============================] - 29s 17ms/step - loss: 1.6060\n",
      "Epoch 95/100\n",
      "1666/1666 [==============================] - 29s 18ms/step - loss: 1.5828\n",
      "Epoch 96/100\n",
      "1666/1666 [==============================] - 29s 17ms/step - loss: 1.5831\n",
      "Epoch 97/100\n",
      "1666/1666 [==============================] - 29s 17ms/step - loss: 1.5855\n",
      "Epoch 98/100\n",
      "1666/1666 [==============================] - 29s 17ms/step - loss: 1.5723\n",
      "Epoch 99/100\n",
      "1666/1666 [==============================] - 29s 17ms/step - loss: 1.5624\n",
      "Epoch 100/100\n",
      "1666/1666 [==============================] - 29s 17ms/step - loss: 1.5619\n"
     ]
    }
   ],
   "source": [
    "hist = model.fit(X, y, epochs=100, callbacks=cb)"
   ]
  },
  {
   "cell_type": "code",
   "execution_count": 49,
   "metadata": {},
   "outputs": [
    {
     "data": {
      "image/png": "[encoded data removed]",
      "text/plain": [
       "<Figure size 800x500 with 1 Axes>"
      ]
     },
     "metadata": {},
     "output_type": "display_data"
    }
   ],
   "source": [
    "pd.DataFrame(hist.history).plot(figsize=(8, 5))\n",
    "plt.grid(True)\n",
    "plt.show()"
   ]
  },
  {
   "cell_type": "code",
   "execution_count": 50,
   "metadata": {},
   "outputs": [
    {
     "name": "stderr",
     "output_type": "stream",
     "text": [
      "/root/miniconda3/envs/env2/lib/python3.9/site-packages/keras/src/engine/training.py:3000: UserWarning: You are saving your model as an HDF5 file via `model.save()`. This file format is considered legacy. We recommend using instead the native Keras format, e.g. `model.save('my_model.keras')`.\n",
      "  saving_api.save_model(\n"
     ]
    }
   ],
   "source": [
    "model.save(\"./txt_gen.h5\")"
   ]
  },
  {
   "attachments": {},
   "cell_type": "markdown",
   "metadata": {},
   "source": [
    "# Generate text"
   ]
  },
  {
   "cell_type": "code",
   "execution_count": 54,
   "metadata": {},
   "outputs": [],
   "source": [
    "def generate_text(seed_txt, next_words, model, max_sequence_len):\n",
    "    for _ in range(next_words):\n",
    "        token_list = tokenizer.texts_to_sequences([seed_txt])[0]\n",
    "        token_list = pad_sequences([token_list], maxlen=max_sequence_len-1, padding='pre')\n",
    "        predicted = model.predict(token_list, verbose=0)\n",
    "        predicted = np.argmax(predicted)\n",
    "        \n",
    "        output_word = \"\"\n",
    "        for word,index in tokenizer.word_index.items():\n",
    "            if index == predicted:\n",
    "                output_word = word\n",
    "                break\n",
    "        seed_txt += \" \" + output_word \n",
    "    print(seed_txt)"
   ]
  },
  {
   "cell_type": "code",
   "execution_count": 56,
   "metadata": {},
   "outputs": [
    {
     "name": "stdout",
     "output_type": "stream",
     "text": [
      "united states gets too putin to lead\n"
     ]
    }
   ],
   "source": [
    "generate_text(\"united states\", 5, model, max_sequence_len)"
   ]
  },
  {
   "cell_type": "code",
   "execution_count": 58,
   "metadata": {},
   "outputs": [
    {
     "name": "stdout",
     "output_type": "stream",
     "text": [
      "New york today a makeshift law\n"
     ]
    }
   ],
   "source": [
    "generate_text(\"New\", 5, model, max_sequence_len)"
   ]
  },
  {
   "cell_type": "code",
   "execution_count": 61,
   "metadata": {},
   "outputs": [
    {
     "name": "stdout",
     "output_type": "stream",
     "text": [
      "there was more racial act behind travel friends and trump in silicon\n"
     ]
    }
   ],
   "source": [
    "generate_text(\"there was\", 10, model, max_sequence_len)"
   ]
  },
  {
   "cell_type": "code",
   "execution_count": null,
   "metadata": {},
   "outputs": [],
   "source": []
  }
 ],
 "metadata": {
  "kernelspec": {
   "display_name": "env2",
   "language": "python",
   "name": "python3"
  },
  "language_info": {
   "codemirror_mode": {
    "name": "ipython",
    "version": 3
   },
   "file_extension": ".py",
   "mimetype": "text/x-python",
   "name": "python",
   "nbconvert_exporter": "python",
   "pygments_lexer": "ipython3",
   "version": "3.9.17"
  },
  "orig_nbformat": 4
 },
 "nbformat": 4,
 "nbformat_minor": 2
}
